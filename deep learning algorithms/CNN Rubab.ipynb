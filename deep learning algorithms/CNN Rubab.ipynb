{
 "cells": [
  {
   "cell_type": "code",
   "execution_count": 3,
   "id": "dada09e3",
   "metadata": {},
   "outputs": [],
   "source": [
    "#importing all the necessary libraries\n",
    "\n",
    "import numpy as np\n",
    "from pathlib import Path\n",
    "import random\n",
    "import torch\n",
    "import torchvision\n",
    "from torchvision import transforms\n",
    "import tqdm"
   ]
  },
  {
   "cell_type": "markdown",
   "id": "9b640d62",
   "metadata": {},
   "source": [
    "# Loading the dataset"
   ]
  },
  {
   "cell_type": "markdown",
   "id": "3751e716",
   "metadata": {},
   "source": [
    "The following blocks of code, load the dataset and perform transformations on it. The following cell provides a brief explanation of each transform used in the code:\n",
    "\n",
    "1. `RandomResizedCrop:` This transform randomly crops a portion of the image and resizes it to the desired size. It is commonly used for data augmentation to increase the variability of the images in the dataset. In the code, I used a crop size of 224, which is a common size used in many deep learning models.\n",
    "\n",
    "2. `RandomHorizontalFlip:` This transform randomly flips the image horizontally with a probability of 0.5. This is another commonly used data augmentation technique to increase the variability of the dataset.\n",
    "\n",
    "3. `ColorJitter:` This transform randomly adjusts the brightness, contrast, saturation, and hue of the image. It can be used to create a more robust model that is able to handle variations in lighting conditions, color distributions, and other factors that may affect the appearance of the images in the dataset.\n",
    "\n",
    "4. `ToTensor:` This transform converts the image into a PyTorch tensor. PyTorch tensors are the primary data structure used in PyTorch for deep learning computations.\n",
    "\n",
    "5. `Normalize:` This transform normalizes the tensor by subtracting the mean and dividing by the standard deviation. Normalization helps to bring the data into a common scale and can improve the convergence of the training process.\n",
    "\n"
   ]
  },
  {
   "cell_type": "code",
   "execution_count": 7,
   "id": "84644b0c",
   "metadata": {},
   "outputs": [
    {
     "name": "stdout",
     "output_type": "stream",
     "text": [
      "Class names: ['no', 'yes']\n"
     ]
    }
   ],
   "source": [
    "import torch\n",
    "import torchvision.datasets as datasets\n",
    "import torchvision.transforms as transforms\n",
    "\n",
    "# Define the path to the directory containing the images\n",
    "data_dir = \"../dataset\"\n",
    "\n",
    "# Define the transforms to be applied to the images\n",
    "transform = transforms.Compose([\n",
    "    transforms.RandomResizedCrop(224),   # Randomly crop the images and resize them to (224, 224)\n",
    "    transforms.RandomHorizontalFlip(),   # Randomly flip the images horizontally\n",
    "    transforms.ColorJitter(brightness=0.4, contrast=0.4, saturation=0.4, hue=0.1),   # Apply color jittering\n",
    "    transforms.ToTensor(),   # Convert the images to tensors\n",
    "    transforms.Normalize([0.5, 0.5, 0.5], [0.5, 0.5, 0.5])   # Normalize the images\n",
    "])\n",
    "\n",
    "# Create a dataset object from the ImageFolder class\n",
    "dataset = datasets.ImageFolder(data_dir, transform=transform)\n",
    "\n",
    "# Get the class names from the dataset object\n",
    "class_names = dataset.classes\n",
    "\n",
    "# Print the class names\n",
    "print(\"Class names:\", class_names)\n",
    "\n",
    "# Create a data loader to load the images in batches\n",
    "batch_size = 32\n",
    "data_loader = torch.utils.data.DataLoader(dataset, batch_size=batch_size, shuffle=True)\n"
   ]
  },
  {
   "cell_type": "code",
   "execution_count": null,
   "id": "64cd1628",
   "metadata": {},
   "outputs": [],
   "source": []
  }
 ],
 "metadata": {
  "kernelspec": {
   "display_name": "Python 3 (ipykernel)",
   "language": "python",
   "name": "python3"
  },
  "language_info": {
   "codemirror_mode": {
    "name": "ipython",
    "version": 3
   },
   "file_extension": ".py",
   "mimetype": "text/x-python",
   "name": "python",
   "nbconvert_exporter": "python",
   "pygments_lexer": "ipython3",
   "version": "3.7.13"
  }
 },
 "nbformat": 4,
 "nbformat_minor": 5
}
